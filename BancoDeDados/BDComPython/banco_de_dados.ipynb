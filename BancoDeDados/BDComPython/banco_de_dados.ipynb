{
 "cells": [
  {
   "cell_type": "code",
   "execution_count": 4,
   "metadata": {
    "collapsed": true
   },
   "outputs": [
    {
     "name": "stdout",
     "output_type": "stream",
     "text": [
      "Banco de dados  Livraria  criado com sucesso.\n"
     ]
    }
   ],
   "source": [
    "# Criando as bases de dados:\n",
    "import sqlite3\n",
    "\n",
    "nome_do_banco = input('Digite o nome do banco de ddos: ')\n",
    "\n",
    "cnn = sqlite3.connect('livraria.db')\n",
    "cursor = cnn.cursor()\n",
    "\n",
    "print(\"Banco de dados \", nome_do_banco,\" criado com sucesso.\")\n",
    "\n",
    "# Criando a tabela (schema)\n",
    "cursor.execute(\"\"\"\n",
    "CREATE TABLE tbl_cliente (\n",
    "        id INTERGER NOT NULL PRIMARY KEY AUTOINCREMENT,\n",
    "        nome     TEXT NOT NULL,\n",
    "        cpf      INTERGER,\n",
    "        telefone TEXT,\n",
    "        cidade   TEXT NOT NULL,\n",
    "        estado   varchar(30) NOT NULL,\n",
    "        pais     varchar (30) NOT NULL,\n",
    "        criado_em DATE NOT NULL\n",
    " );\n",
    "\"\"\")\n",
    "\n",
    "cursor.execute(\"\"\"\n",
    "CREATE TABLE tbl_livro (\n",
    "        autor TEXT NOT NULL,\n",
    "        num_pag INTERGER,\n",
    "        ISBN TEXT,\n",
    "        genero   TEXT NOT NULL,\n",
    "        qant   varchar(30) NOT NULL,\n",
    "        titulo     varchar (30) NOT NULL,\n",
    "        add_em DATE NOT NULL,\n",
    "        CONSTRAINT fk_ClienLivro FOREIGN KEY (id) REFERENCES tbl_cliente (id)\n",
    " );\n",
    "\"\"\")\n",
    "\n",
    "cnn.commit()"
   ]
  },
  {
   "cell_type": "code",
   "execution_count": null,
   "outputs": [],
   "source": [
    "# Inserindo dados manualmente:\n",
    "\n",
    "# inserindo os dados da lista na tabela\n",
    "\n",
    "cursor.executemany(\"\"\"\n",
    "INSERT INTO tbl_cliente (id, nome, cpf, telefone, cidade, criado_em)\n",
    "VALUES (?,?,?,?,?,?)\n",
    "\"\"\", lista)\n",
    "\n",
    "# Gravar no banco de dados\n",
    "cnn.commit()\n",
    "\n",
    "print(\"Dados inseridos na na tabela com sucesso!\")"
   ],
   "metadata": {
    "collapsed": false,
    "pycharm": {
     "name": "#%%\n"
    }
   }
  },
  {
   "cell_type": "code",
   "execution_count": null,
   "outputs": [],
   "source": [
    "print(\"Olá insira os sesus dados: \\n\")\n",
    "usr_id   = input('Digite seu id: ')\n",
    "usr_nome = input(\"Digite seu nome: \")\n",
    "usr_cpf  = input(\"Digite seu cpf: \")\n",
    "usr_telefone  = input(\"Digite seu telefone: \")\n",
    "usr_cidade    = input(\"Digite sua cidade: \")\n",
    "usr_criado_em = input(\"Digite a data de criacao: \")\n",
    "\n",
    "print(\"Os dados digitados foram: \\n\")\n",
    "print('Valor do id: ',usr_id)\n",
    "print('Valor do nome: ',usr_nome)\n",
    "print('Valor do CPF: ',usr_cpf)\n",
    "print('Valor do Tel: ',usr_telefone)\n",
    "print('Valor do cid: ',usr_cidade)\n",
    "print('Valor da data: ',usr_criado_em)\n",
    "\n",
    "\n",
    "cnn = sqlite3.connect('cliente.db')\n",
    "cursor = cnn.cursor()\n",
    "\n",
    "cursor.execute(\"\"\"\n",
    "INSERT INTO tbl_cliente (id, nome, cpf, telefone, cidade, criado_em)\n",
    "VALUES (?,?,?,?,?,?)\n",
    "\"\"\", (usr_id, usr_nome, usr_cpf, usr_telefone, usr_cidade, usr_criado_em))\n",
    "\n",
    "cnn.commit()\n",
    "\n",
    "print(\"Operação ocorrida com sucesso.\")"
   ],
   "metadata": {
    "collapsed": false,
    "pycharm": {
     "name": "#%%\n"
    }
   }
  },
  {
   "cell_type": "code",
   "execution_count": null,
   "outputs": [],
   "source": [
    "novo_cpf = 123456789\n",
    "novo_telefone = 9876543210\n",
    "\n",
    "# Alterando os dados na tabela:\n",
    "cursor.execute(\"\"\"\n",
    "UPDATE tbl_cliente\n",
    "SET cpf = ?, telefone = ?\n",
    "WHERE id = 10\n",
    "\"\"\", (novo_cpf, novo_telefone))\n",
    "\n",
    "cnn.commit()\n",
    "\n",
    "print(\"As atualizações foram efetivadas no sistema\")\n"
   ],
   "metadata": {
    "collapsed": false,
    "pycharm": {
     "name": "#%%\n"
    }
   }
  },
  {
   "cell_type": "code",
   "execution_count": null,
   "outputs": [],
   "source": [
    "# Fazendo a leitura completa do banco de dados\n",
    "cursor.execute(\"\"\"\n",
    "SELECT * FROM tbl_cliente\n",
    "\"\"\")\n",
    "\n",
    "for linhas in cursor.fetchall():\n",
    "    print(linhas)\n",
    "cnn.commit()"
   ],
   "metadata": {
    "collapsed": false,
    "pycharm": {
     "name": "#%%\n"
    }
   }
  },
  {
   "cell_type": "code",
   "execution_count": null,
   "outputs": [],
   "source": [
    "#excluindo um registro na tabela\n",
    "\n",
    "id_excluido = input('Digite o identificador que se deseja excluir: ')\n",
    "\n",
    "cursor.execute(\"\"\"\n",
    "DELETE FROM  tbl_cliente\n",
    "WHERE id =?\n",
    "\"\"\", (id_excluido,))\n",
    "\n",
    "cnn.commit()\n",
    "\n",
    "print(\"O id selecionado foi devidamente excluido\")\n"
   ],
   "metadata": {
    "collapsed": false,
    "pycharm": {
     "name": "#%%\n"
    }
   }
  },
  {
   "cell_type": "code",
   "execution_count": 1,
   "outputs": [
    {
     "ename": "NameError",
     "evalue": "name 'cnn' is not defined",
     "output_type": "error",
     "traceback": [
      "\u001B[0;31m---------------------------------------------------------------------------\u001B[0m",
      "\u001B[0;31mNameError\u001B[0m                                 Traceback (most recent call last)",
      "\u001B[0;32m<ipython-input-1-5035c3b0ccd0>\u001B[0m in \u001B[0;36m<module>\u001B[0;34m\u001B[0m\n\u001B[0;32m----> 1\u001B[0;31m \u001B[0mcnn\u001B[0m\u001B[0;34m.\u001B[0m\u001B[0mclose\u001B[0m\u001B[0;34m(\u001B[0m\u001B[0;34m)\u001B[0m\u001B[0;34m\u001B[0m\u001B[0;34m\u001B[0m\u001B[0m\n\u001B[0m",
      "\u001B[0;31mNameError\u001B[0m: name 'cnn' is not defined"
     ]
    }
   ],
   "source": [
    "# adicionando uma nova coluna na nossa tabela\n",
    "cursor.execute(\"\"\"\n",
    "ALTER TABLE tbl_cliente\n",
    "ADD COLUMN sobrenome TEXT;\n",
    "\"\"\")\n",
    "\n",
    "cnn.commit()\n",
    "print(\"O novo atributo na tabela foi devidamente criado\")\n"
   ],
   "metadata": {
    "collapsed": false,
    "pycharm": {
     "name": "#%%\n"
    }
   }
  },
  {
   "cell_type": "code",
   "execution_count": null,
   "outputs": [],
   "source": [
    "cnn.close()\n",
    "cnn.close()\n",
    "cnn.close()"
   ],
   "metadata": {
    "collapsed": false,
    "pycharm": {
     "name": "#%%\n"
    }
   }
  }
 ],
 "metadata": {
  "kernelspec": {
   "display_name": "Python 3",
   "language": "python",
   "name": "python3"
  },
  "language_info": {
   "codemirror_mode": {
    "name": "ipython",
    "version": 2
   },
   "file_extension": ".py",
   "mimetype": "text/x-python",
   "name": "python",
   "nbconvert_exporter": "python",
   "pygments_lexer": "ipython2",
   "version": "2.7.6"
  }
 },
 "nbformat": 4,
 "nbformat_minor": 0
}